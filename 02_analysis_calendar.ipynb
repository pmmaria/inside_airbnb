{
 "cells": [
  {
   "cell_type": "markdown",
   "id": "47576a72",
   "metadata": {},
   "source": [
    "# Analysis of Calendar Table — Inside Airbnb Santiago\n",
    "\n",
    "## 1. Introduction\n",
    "\n",
    "The calendar table contains daily availability and pricing information for each Airbnb listing in Santiago.  \n",
    "Analyzing this table helps understand booking patterns, seasonal trends, and pricing fluctuations over time.\n",
    "\n",
    "## 2. Load and Preview\n",
    "In this section, we will load the calendar dataset, examine its dimensions and structure, and perform an initial check for missing values. Specifically, we will:\n",
    "\n",
    "- Load the dataset from the local folder.\n",
    "- Display the shape and data types of the dataframe.\n",
    "- Show a preview of the first few rows.\n",
    "- Summarize missing values by column."
   ]
  },
  {
   "cell_type": "code",
   "execution_count": 37,
   "id": "406316ca",
   "metadata": {},
   "outputs": [
    {
     "name": "stdout",
     "output_type": "stream",
     "text": [
      "\n",
      "----Preview:\n",
      "\n"
     ]
    },
    {
     "data": {
      "text/html": [
       "<div>\n",
       "<style scoped>\n",
       "    .dataframe tbody tr th:only-of-type {\n",
       "        vertical-align: middle;\n",
       "    }\n",
       "\n",
       "    .dataframe tbody tr th {\n",
       "        vertical-align: top;\n",
       "    }\n",
       "\n",
       "    .dataframe thead th {\n",
       "        text-align: right;\n",
       "    }\n",
       "</style>\n",
       "<table border=\"1\" class=\"dataframe\">\n",
       "  <thead>\n",
       "    <tr style=\"text-align: right;\">\n",
       "      <th></th>\n",
       "      <th>listing_id</th>\n",
       "      <th>date</th>\n",
       "      <th>available</th>\n",
       "      <th>price</th>\n",
       "      <th>adjusted_price</th>\n",
       "      <th>minimum_nights</th>\n",
       "      <th>maximum_nights</th>\n",
       "    </tr>\n",
       "  </thead>\n",
       "  <tbody>\n",
       "    <tr>\n",
       "      <th>0</th>\n",
       "      <td>49392</td>\n",
       "      <td>2024-12-27</td>\n",
       "      <td>f</td>\n",
       "      <td>$55.00</td>\n",
       "      <td>NaN</td>\n",
       "      <td>3</td>\n",
       "      <td>730</td>\n",
       "    </tr>\n",
       "    <tr>\n",
       "      <th>1</th>\n",
       "      <td>49392</td>\n",
       "      <td>2024-12-28</td>\n",
       "      <td>f</td>\n",
       "      <td>$55.00</td>\n",
       "      <td>NaN</td>\n",
       "      <td>3</td>\n",
       "      <td>730</td>\n",
       "    </tr>\n",
       "    <tr>\n",
       "      <th>2</th>\n",
       "      <td>49392</td>\n",
       "      <td>2024-12-29</td>\n",
       "      <td>t</td>\n",
       "      <td>$55.00</td>\n",
       "      <td>NaN</td>\n",
       "      <td>3</td>\n",
       "      <td>730</td>\n",
       "    </tr>\n",
       "    <tr>\n",
       "      <th>3</th>\n",
       "      <td>49392</td>\n",
       "      <td>2024-12-30</td>\n",
       "      <td>t</td>\n",
       "      <td>$55.00</td>\n",
       "      <td>NaN</td>\n",
       "      <td>3</td>\n",
       "      <td>730</td>\n",
       "    </tr>\n",
       "    <tr>\n",
       "      <th>4</th>\n",
       "      <td>49392</td>\n",
       "      <td>2024-12-31</td>\n",
       "      <td>t</td>\n",
       "      <td>$55.00</td>\n",
       "      <td>NaN</td>\n",
       "      <td>3</td>\n",
       "      <td>730</td>\n",
       "    </tr>\n",
       "  </tbody>\n",
       "</table>\n",
       "</div>"
      ],
      "text/plain": [
       "   listing_id        date available   price  adjusted_price  minimum_nights  \\\n",
       "0       49392  2024-12-27         f  $55.00             NaN               3   \n",
       "1       49392  2024-12-28         f  $55.00             NaN               3   \n",
       "2       49392  2024-12-29         t  $55.00             NaN               3   \n",
       "3       49392  2024-12-30         t  $55.00             NaN               3   \n",
       "4       49392  2024-12-31         t  $55.00             NaN               3   \n",
       "\n",
       "   maximum_nights  \n",
       "0             730  \n",
       "1             730  \n",
       "2             730  \n",
       "3             730  \n",
       "4             730  "
      ]
     },
     "metadata": {},
     "output_type": "display_data"
    },
    {
     "name": "stdout",
     "output_type": "stream",
     "text": [
      "\n",
      "----Info:\n",
      "\n",
      "<class 'pandas.core.frame.DataFrame'>\n",
      "RangeIndex: 5493615 entries, 0 to 5493614\n",
      "Data columns (total 7 columns):\n",
      " #   Column          Dtype  \n",
      "---  ------          -----  \n",
      " 0   listing_id      int64  \n",
      " 1   date            object \n",
      " 2   available       object \n",
      " 3   price           object \n",
      " 4   adjusted_price  float64\n",
      " 5   minimum_nights  int64  \n",
      " 6   maximum_nights  int64  \n",
      "dtypes: float64(1), int64(3), object(3)\n",
      "memory usage: 293.4+ MB\n",
      "\n",
      "----Shape:\n",
      "\n",
      "(5493615, 7)\n",
      "\n",
      "----Missing Values:\n",
      "\n",
      "listing_id              0\n",
      "date                    0\n",
      "available               0\n",
      "price                   0\n",
      "adjusted_price    5493615\n",
      "minimum_nights          0\n",
      "maximum_nights          0\n",
      "dtype: int64\n"
     ]
    }
   ],
   "source": [
    "import pandas as pd\n",
    "\n",
    "# Load the calendar data from a gzipped CSV file\n",
    "df_calendar = pd.read_csv('santiago/calendar.csv.gz', compression='gzip') \n",
    "\n",
    "\n",
    "# Preview the data\n",
    "print(\"\\n----Preview:\\n\")\n",
    "display(df_calendar.head())\n",
    "\n",
    "print(\"\\n----Info:\\n\")\n",
    "df_calendar.info()\n",
    "\n",
    "print(\"\\n----Shape:\\n\")\n",
    "print(df_calendar.shape)\n",
    "\n",
    "# Check for missing values\n",
    "print(\"\\n----Missing Values:\\n\")\n",
    "print(df_calendar.isnull().sum())"
   ]
  },
  {
   "cell_type": "markdown",
   "id": "88d28f9c",
   "metadata": {},
   "source": [
    "#### Observations\n",
    "\n",
    "- The calendar table contains 5,493,615 rows and 7 columns.  \n",
    "\n",
    "- Columns include listing ID, date, price, availability, and more. \n",
    "\n",
    "- The price column is in Chilean Pesos (CLP). To facilitate comparison and analysis, I will add a new column `price_usd`\n",
    "\n",
    "- Several columns are incorrectly typed as `object` and will be converted to the appropriate types during cleaning.\n",
    "\n",
    "- The `adjusted_price` column contains only null values and will be dropped during cleaning.  \n",
    "\n",
    "- Aside from this, no other columns contain missing values.\n"
   ]
  },
  {
   "cell_type": "markdown",
   "id": "cee49616",
   "metadata": {},
   "source": [
    "## 3. Cleaning\n",
    "\n",
    "In this section, I will clean the calendar dataset by:\n",
    "\n",
    "- Dropping irrelevant columns.\n",
    "- Converting data types to appropriate formats.\n",
    "- Handling missing values.\n",
    "- Adding `price_usd` column.\n",
    "- Renaming columns for clarity and consistency\n",
    "\n",
    "### 3.1 Drop irrelevant columns and handle missing values\n",
    "\n",
    "The `adjusted_price` column contains only null values, so it provides no useful information and will be dropped from the dataset. Since no other columns have missing values, no further imputation is required at this stage.\n",
    "\n"
   ]
  },
  {
   "cell_type": "code",
   "execution_count": 38,
   "id": "b43c5efa",
   "metadata": {},
   "outputs": [],
   "source": [
    "# Drop the 'adjusted_price' column\n",
    "df_calendar.drop(columns=['adjusted_price'], inplace=True)"
   ]
  },
  {
   "cell_type": "markdown",
   "id": "8da741ba",
   "metadata": {},
   "source": [
    "### 3.2 Convert data types\n",
    "\n",
    "- The `date` column is stored as a string but should be converted to a `datetime` type for proper time-series analysis. \n",
    "\n",
    "- The `price` column is stored as a string and contains currency symbols, which must be cleaned and converted to numeric values for quantitative analysis.  \n",
    "\n",
    "- The `available` column is currently represented as `'t'` and `'f'` strings. I will map these to boolean `True` and `False` values to facilitate logical operations and analyses.  \n",
    "\n"
   ]
  },
  {
   "cell_type": "code",
   "execution_count": 39,
   "id": "ead4a207",
   "metadata": {},
   "outputs": [
    {
     "data": {
      "text/plain": [
       "listing_id                 int64\n",
       "date              datetime64[ns]\n",
       "available                boolean\n",
       "price                    float64\n",
       "minimum_nights             int64\n",
       "maximum_nights             int64\n",
       "dtype: object"
      ]
     },
     "execution_count": 39,
     "metadata": {},
     "output_type": "execute_result"
    }
   ],
   "source": [
    "# Convert 'date' column from string to datetime format\n",
    "df_calendar['date'] = pd.to_datetime(df_calendar['date'], format='%Y-%m-%d')\n",
    "\n",
    "# Clean 'price' column by removing '$' and ',' then convert to float\n",
    "df_calendar['price'] = df_calendar['price'].replace({r'\\$': '', r',': ''}, regex=True).astype(float)\n",
    "\n",
    "# Map 'available' column values from 't'/'f' strings to boolean True/False\n",
    "df_calendar['available'] = df_calendar['available'].map({'t': True, 'f': False}).astype('boolean')\n",
    "\n",
    "# Check the updated DataFrame\n",
    "df_calendar.dtypes\n"
   ]
  },
  {
   "cell_type": "markdown",
   "id": "7ab18b20",
   "metadata": {},
   "source": [
    "### 3.3 Rename columns\n",
    "\n",
    "To improve clarity and consistency in naming:\n",
    "\n",
    "- `price` → `price_clp`: reflects that the original price is in Chilean Pesos\n",
    "\n",
    "- `available` → `is_available`: uses a boolean-style naming convention for clarity"
   ]
  },
  {
   "cell_type": "code",
   "execution_count": 40,
   "id": "2a9f2b39",
   "metadata": {},
   "outputs": [],
   "source": [
    "# Rename columns for clarity\n",
    "df_calendar.rename(columns={\n",
    "     'available': 'is_available',\n",
    "    'price': 'price_clp'\n",
    "}, inplace=True)"
   ]
  },
  {
   "cell_type": "markdown",
   "id": "6c355dbc",
   "metadata": {},
   "source": [
    "### 3.4 Add calculated column\n",
    "The price column is in Chilean Pesos (CLP). To facilitate comparison and analysis, I will add a new column price_usd by converting prices to US dollars using an approximate exchange rate of 1 CLP = 0.0011 USD."
   ]
  },
  {
   "cell_type": "code",
   "execution_count": 41,
   "id": "76d6b0ae",
   "metadata": {},
   "outputs": [
    {
     "name": "stdout",
     "output_type": "stream",
     "text": [
      "\n",
      "----Cleaned DataFrame:\n",
      "\n"
     ]
    },
    {
     "data": {
      "text/html": [
       "<div>\n",
       "<style scoped>\n",
       "    .dataframe tbody tr th:only-of-type {\n",
       "        vertical-align: middle;\n",
       "    }\n",
       "\n",
       "    .dataframe tbody tr th {\n",
       "        vertical-align: top;\n",
       "    }\n",
       "\n",
       "    .dataframe thead th {\n",
       "        text-align: right;\n",
       "    }\n",
       "</style>\n",
       "<table border=\"1\" class=\"dataframe\">\n",
       "  <thead>\n",
       "    <tr style=\"text-align: right;\">\n",
       "      <th></th>\n",
       "      <th>listing_id</th>\n",
       "      <th>date</th>\n",
       "      <th>is_available</th>\n",
       "      <th>price_clp</th>\n",
       "      <th>price_usd</th>\n",
       "      <th>minimum_nights</th>\n",
       "      <th>maximum_nights</th>\n",
       "    </tr>\n",
       "  </thead>\n",
       "  <tbody>\n",
       "    <tr>\n",
       "      <th>0</th>\n",
       "      <td>49392</td>\n",
       "      <td>2024-12-27</td>\n",
       "      <td>False</td>\n",
       "      <td>55.0</td>\n",
       "      <td>0.06</td>\n",
       "      <td>3</td>\n",
       "      <td>730</td>\n",
       "    </tr>\n",
       "    <tr>\n",
       "      <th>1</th>\n",
       "      <td>49392</td>\n",
       "      <td>2024-12-28</td>\n",
       "      <td>False</td>\n",
       "      <td>55.0</td>\n",
       "      <td>0.06</td>\n",
       "      <td>3</td>\n",
       "      <td>730</td>\n",
       "    </tr>\n",
       "    <tr>\n",
       "      <th>2</th>\n",
       "      <td>49392</td>\n",
       "      <td>2024-12-29</td>\n",
       "      <td>True</td>\n",
       "      <td>55.0</td>\n",
       "      <td>0.06</td>\n",
       "      <td>3</td>\n",
       "      <td>730</td>\n",
       "    </tr>\n",
       "    <tr>\n",
       "      <th>3</th>\n",
       "      <td>49392</td>\n",
       "      <td>2024-12-30</td>\n",
       "      <td>True</td>\n",
       "      <td>55.0</td>\n",
       "      <td>0.06</td>\n",
       "      <td>3</td>\n",
       "      <td>730</td>\n",
       "    </tr>\n",
       "    <tr>\n",
       "      <th>4</th>\n",
       "      <td>49392</td>\n",
       "      <td>2024-12-31</td>\n",
       "      <td>True</td>\n",
       "      <td>55.0</td>\n",
       "      <td>0.06</td>\n",
       "      <td>3</td>\n",
       "      <td>730</td>\n",
       "    </tr>\n",
       "  </tbody>\n",
       "</table>\n",
       "</div>"
      ],
      "text/plain": [
       "   listing_id       date  is_available  price_clp  price_usd  minimum_nights  \\\n",
       "0       49392 2024-12-27         False       55.0       0.06               3   \n",
       "1       49392 2024-12-28         False       55.0       0.06               3   \n",
       "2       49392 2024-12-29          True       55.0       0.06               3   \n",
       "3       49392 2024-12-30          True       55.0       0.06               3   \n",
       "4       49392 2024-12-31          True       55.0       0.06               3   \n",
       "\n",
       "   maximum_nights  \n",
       "0             730  \n",
       "1             730  \n",
       "2             730  \n",
       "3             730  \n",
       "4             730  "
      ]
     },
     "metadata": {},
     "output_type": "display_data"
    }
   ],
   "source": [
    "# Define exchange rate\n",
    "exchange_rate = 0.0011\n",
    "\n",
    "# Calculate price in USD\n",
    "price_usd = (df_calendar['price_clp'] * exchange_rate).round(2)\n",
    "\n",
    "# Insert 'price_usd' column right after 'price_clp'\n",
    "price_clp_index = df_calendar.columns.get_loc('price_clp')\n",
    "df_calendar.insert(price_clp_index + 1, 'price_usd', price_usd)\n",
    "\n",
    "# Preview the cleaned DataFrame\n",
    "print(\"\\n----Cleaned DataFrame:\\n\")\n",
    "display(df_calendar.head())"
   ]
  },
  {
   "cell_type": "code",
   "execution_count": null,
   "id": "f6f0e386",
   "metadata": {},
   "outputs": [
    {
     "name": "stdout",
     "output_type": "stream",
     "text": [
      "count    5.493615e+06\n",
      "mean     7.161567e+04\n",
      "std      9.178496e+05\n",
      "min      1.100000e+01\n",
      "25%      2.500000e+04\n",
      "50%      3.803700e+04\n",
      "75%      5.600000e+04\n",
      "max      8.900000e+07\n",
      "Name: price, dtype: float64\n",
      "99th percentile: 450000.0\n"
     ]
    }
   ],
   "source": [
    "# Summary statistics for price\n",
    "print(df_calendar['price'].describe())\n",
    "print(\"99th percentile:\", df_calendar['price'].quantile(0.99))\n",
    "\n"
   ]
  },
  {
   "cell_type": "markdown",
   "id": "5bb32023",
   "metadata": {},
   "source": [
    "### Observations:\n",
    "\n",
    "- Prices range from 11 CLP to 89 million CLP — extreme outliers are inflating the mean and standard deviation.\n",
    "- The average price is about 71,616 CLP. This number is heavily affected by extreme values.\n",
    "- 99% of listings are priced below 450,000 CLP.\n",
    "- Most listings fall in the 25,000–56,000 CLP range.\n",
    "- The lowest price found is 11 CLP— which seems unrealistic."
   ]
  },
  {
   "cell_type": "markdown",
   "id": "64aece14",
   "metadata": {},
   "source": [
    "## Step 5: Visualizing Price Distribution\n",
    "\n",
    "We'll plot a histogram of prices under 450,000 CLP (99% of the prices are below this amount) using a log scale to reveal patterns.\n"
   ]
  },
  {
   "cell_type": "code",
   "execution_count": 7,
   "id": "6257bd42",
   "metadata": {},
   "outputs": [
    {
     "data": {
      "image/png": "[encoded data removed]",
      "text/plain": [
       "<Figure size 1000x600 with 1 Axes>"
      ]
     },
     "metadata": {},
     "output_type": "display_data"
    }
   ],
   "source": [
    "import matplotlib.pyplot as plt\n",
    "import os\n",
    "\n",
    "# Filter reasonable prices only\n",
    "reasonable_prices = df_calendar[df_calendar['price'] < 450000]['price']\n",
    "\n",
    "plt.figure(figsize=(10, 6))\n",
    "plt.hist(reasonable_prices, bins=50)\n",
    "plt.title(\"Distribution of Airbnb Prices in CLP (Under 450,000)\")\n",
    "plt.xlabel(\"Price (CLP)\")\n",
    "plt.ylabel(\"Number of Listings\")\n",
    "plt.yscale('log')  # Use logarithmic scale for better visibility\n",
    "\n",
    "# Save the histogram as a PNG file in a directory 'figures'\n",
    "if not os.path.exists('figures'):\n",
    "    os.makedirs('figures')\n",
    "plt.savefig('figures/price_distribution_u450.png', bbox_inches='tight')\n",
    "\n",
    "plt.show()  # Show the plot after saving\n",
    "\n",
    "\n"
   ]
  },
  {
   "cell_type": "markdown",
   "id": "24a08c90",
   "metadata": {},
   "source": [
    "## Step 6: Explore Low Price Listings\n",
    "\n",
    "Now let’s inspect listings under 20,000 CLP and decide on a lower threshold.\n"
   ]
  },
  {
   "cell_type": "code",
   "execution_count": 8,
   "id": "c09fc16d",
   "metadata": {},
   "outputs": [
    {
     "data": {
      "image/png": "[encoded data removed]",
      "text/plain": [
       "<Figure size 1000x600 with 1 Axes>"
      ]
     },
     "metadata": {},
     "output_type": "display_data"
    }
   ],
   "source": [
    "lower_prices = df_calendar[df_calendar['price'] < 20000]['price']\n",
    "\n",
    "plt.figure(figsize=(10, 6))\n",
    "plt.hist(lower_prices, bins=100)\n",
    "plt.title(\"Distribution of Airbnb Prices in CLP (Under 100,000)\")\n",
    "plt.xlabel(\"Price (CLP)\")\n",
    "plt.ylabel(\"Number of Listings\")\n",
    "plt.yscale('log')  # Use logarithmic scale for better visibility\n",
    "plt.show()"
   ]
  },
  {
   "cell_type": "markdown",
   "id": "5a3c017d",
   "metadata": {},
   "source": [
    "### Decision:\n",
    "\n",
    "Listings under 7,000 CLP (~7 USD) will be removed, as they are likely errors or irrelevant.\n"
   ]
  },
  {
   "cell_type": "markdown",
   "id": "a441788f",
   "metadata": {},
   "source": [
    "## Step 7: Final Transformations and Export\n",
    "\n",
    "We'll now:\n",
    "- Rename columns for clarity\n",
    "- Add prices in USD\n",
    "- Filter out extreme low/high values\n",
    "- Save the clean dataset to disk\n"
   ]
  },
  {
   "cell_type": "code",
   "execution_count": 9,
   "id": "097a7930",
   "metadata": {},
   "outputs": [],
   "source": [
    "# Rename columns\n",
    "df_calendar.rename(columns={'price': 'price_clp', 'available': 'is_available'}, inplace=True)\n",
    "\n",
    "# Add price in USD\n",
    "exchange_rate = 0.0011\n",
    "df_calendar['price_usd'] = (df_calendar['price_clp'] * exchange_rate).round(2)\n",
    "\n",
    "# Drop unused column\n",
    "df_calendar.drop(columns=['adjusted_price'], inplace=True, errors='ignore')\n",
    "\n",
    "# Filter out extreme values\n",
    "df_calendar = df_calendar[\n",
    "    (df_calendar['price_clp'] >= 7000) & \n",
    "    (df_calendar['price_clp'] <= 450000)\n",
    "]\n",
    "\n",
    "# Save cleaned data\n",
    "import os\n",
    "os.makedirs('cleaned_data', exist_ok=True)\n",
    "df_calendar.to_csv('cleaned_data/calendar_cleaned.csv', index=False)\n"
   ]
  },
  {
   "cell_type": "markdown",
   "id": "c27eb53f",
   "metadata": {},
   "source": [
    "✅ The `calendar_cleaned.csv` file is now ready to be uploaded to Google Cloud for further analysis.\n"
   ]
  }
 ],
 "metadata": {
  "kernelspec": {
   "display_name": ".venv",
   "language": "python",
   "name": "python3"
  },
  "language_info": {
   "codemirror_mode": {
    "name": "ipython",
    "version": 3
   },
   "file_extension": ".py",
   "mimetype": "text/x-python",
   "name": "python",
   "nbconvert_exporter": "python",
   "pygments_lexer": "ipython3",
   "version": "3.12.3"
  }
 },
 "nbformat": 4,
 "nbformat_minor": 5
}
